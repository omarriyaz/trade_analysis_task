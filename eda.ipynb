{
 "cells": [
  {
   "cell_type": "markdown",
   "metadata": {},
   "source": [
    "# Fathom Consulting Trade Analysis Task\n",
    "\n",
    "#### Excel Sheet:\n",
    "- The input data is export values (USD thousands) by country and by year across a range of sectors.\n",
    "    - Note: For the purposes of this task \"world\" values are assumed to be the sum of all countries listed in the data.\n",
    "- The output data is the Revealed Comparative Advantage (RCA) of a country's exports in each sector and year.\n",
    "    - The RCA metric is a measure of a country’s relative specialism of a given export.\n",
    "\n",
    "#### Task:\n",
    "- Replicate this methodology in one of the following coding languages: Python, R, SQL (I decided to use Python).\n",
    "    - The script should read in the input data in the same structure as provided and write out a csv with the output.\n",
    "- Analyse the data (both input and output) and pick out two insights that you feel are interesting.\n",
    "    - This could involve further calculations if you think necessary. (Please add these calculations to your script if this is the case)\n",
    "    - These insights should be presented in a PowerPoint file, with one slide for each insight using visualizations to help"
   ]
  },
  {
   "cell_type": "markdown",
   "metadata": {},
   "source": [
    "## Exploratory Data Analysis for the Input\n",
    "\n",
    "Going through the input data to better understand it using Pandas."
   ]
  },
  {
   "cell_type": "markdown",
   "metadata": {},
   "source": [
    "### Basic Eda"
   ]
  },
  {
   "cell_type": "code",
   "execution_count": 1,
   "metadata": {},
   "outputs": [],
   "source": [
    "# imports\n",
    "\n",
    "import pandas as pd"
   ]
  },
  {
   "cell_type": "code",
   "execution_count": 2,
   "metadata": {},
   "outputs": [],
   "source": [
    "# read in the input data\n",
    "\n",
    "input = pd.read_excel(\"Trade analysis task.xlsx\", sheet_name='Input - Trade values')"
   ]
  },
  {
   "cell_type": "code",
   "execution_count": 3,
   "metadata": {},
   "outputs": [
    {
     "data": {
      "text/html": [
       "<div>\n",
       "<style scoped>\n",
       "    .dataframe tbody tr th:only-of-type {\n",
       "        vertical-align: middle;\n",
       "    }\n",
       "\n",
       "    .dataframe tbody tr th {\n",
       "        vertical-align: top;\n",
       "    }\n",
       "\n",
       "    .dataframe thead th {\n",
       "        text-align: right;\n",
       "    }\n",
       "</style>\n",
       "<table border=\"1\" class=\"dataframe\">\n",
       "  <thead>\n",
       "    <tr style=\"text-align: right;\">\n",
       "      <th></th>\n",
       "      <th>Country</th>\n",
       "      <th>period</th>\n",
       "      <th>Arms and Ammunition</th>\n",
       "      <th>Building materials</th>\n",
       "      <th>Charges for the use of intellectual property n.i.e</th>\n",
       "      <th>Chemicals and minerals</th>\n",
       "      <th>Clothing and accessories</th>\n",
       "      <th>Construction</th>\n",
       "      <th>Financial services</th>\n",
       "      <th>Food and drink</th>\n",
       "      <th>...</th>\n",
       "      <th>Metals</th>\n",
       "      <th>Other</th>\n",
       "      <th>Other business services</th>\n",
       "      <th>Personal, cultural, and recreational services</th>\n",
       "      <th>Plastics and rubber</th>\n",
       "      <th>Telecommunications, computer, and information services</th>\n",
       "      <th>Transport</th>\n",
       "      <th>Transport equip</th>\n",
       "      <th>Travel</th>\n",
       "      <th>TOTAL</th>\n",
       "    </tr>\n",
       "  </thead>\n",
       "  <tbody>\n",
       "    <tr>\n",
       "      <th>0</th>\n",
       "      <td>Afghanistan</td>\n",
       "      <td>2005</td>\n",
       "      <td>NaN</td>\n",
       "      <td>NaN</td>\n",
       "      <td>NaN</td>\n",
       "      <td>NaN</td>\n",
       "      <td>NaN</td>\n",
       "      <td>NaN</td>\n",
       "      <td>NaN</td>\n",
       "      <td>NaN</td>\n",
       "      <td>...</td>\n",
       "      <td>NaN</td>\n",
       "      <td>NaN</td>\n",
       "      <td>NaN</td>\n",
       "      <td>NaN</td>\n",
       "      <td>NaN</td>\n",
       "      <td>NaN</td>\n",
       "      <td>NaN</td>\n",
       "      <td>NaN</td>\n",
       "      <td>NaN</td>\n",
       "      <td>0.0</td>\n",
       "    </tr>\n",
       "    <tr>\n",
       "      <th>1</th>\n",
       "      <td>Albania</td>\n",
       "      <td>2005</td>\n",
       "      <td>504.0</td>\n",
       "      <td>23914.0</td>\n",
       "      <td>1000.0</td>\n",
       "      <td>37395.0</td>\n",
       "      <td>394057.0</td>\n",
       "      <td>3000.0</td>\n",
       "      <td>16000.0</td>\n",
       "      <td>53893.0</td>\n",
       "      <td>...</td>\n",
       "      <td>101756.0</td>\n",
       "      <td>15403.0</td>\n",
       "      <td>57000.0</td>\n",
       "      <td>18000.0</td>\n",
       "      <td>4022.0</td>\n",
       "      <td>74000.0</td>\n",
       "      <td>126000.0</td>\n",
       "      <td>2182.0</td>\n",
       "      <td>854000.0</td>\n",
       "      <td>1823093.0</td>\n",
       "    </tr>\n",
       "    <tr>\n",
       "      <th>2</th>\n",
       "      <td>Algeria</td>\n",
       "      <td>2005</td>\n",
       "      <td>NaN</td>\n",
       "      <td>21989.0</td>\n",
       "      <td>NaN</td>\n",
       "      <td>45574415.0</td>\n",
       "      <td>11401.0</td>\n",
       "      <td>167000.0</td>\n",
       "      <td>48000.0</td>\n",
       "      <td>70490.0</td>\n",
       "      <td>...</td>\n",
       "      <td>267077.0</td>\n",
       "      <td>3471.0</td>\n",
       "      <td>637000.0</td>\n",
       "      <td>4000.0</td>\n",
       "      <td>23669.0</td>\n",
       "      <td>96000.0</td>\n",
       "      <td>851000.0</td>\n",
       "      <td>12136.0</td>\n",
       "      <td>184000.0</td>\n",
       "      <td>48508722.0</td>\n",
       "    </tr>\n",
       "    <tr>\n",
       "      <th>3</th>\n",
       "      <td>Andorra</td>\n",
       "      <td>2005</td>\n",
       "      <td>NaN</td>\n",
       "      <td>NaN</td>\n",
       "      <td>NaN</td>\n",
       "      <td>NaN</td>\n",
       "      <td>NaN</td>\n",
       "      <td>NaN</td>\n",
       "      <td>NaN</td>\n",
       "      <td>NaN</td>\n",
       "      <td>...</td>\n",
       "      <td>NaN</td>\n",
       "      <td>NaN</td>\n",
       "      <td>NaN</td>\n",
       "      <td>NaN</td>\n",
       "      <td>NaN</td>\n",
       "      <td>NaN</td>\n",
       "      <td>NaN</td>\n",
       "      <td>NaN</td>\n",
       "      <td>NaN</td>\n",
       "      <td>0.0</td>\n",
       "    </tr>\n",
       "    <tr>\n",
       "      <th>4</th>\n",
       "      <td>Angola</td>\n",
       "      <td>2005</td>\n",
       "      <td>40.0</td>\n",
       "      <td>1252.0</td>\n",
       "      <td>49000.0</td>\n",
       "      <td>18561.0</td>\n",
       "      <td>1125.0</td>\n",
       "      <td>NaN</td>\n",
       "      <td>NaN</td>\n",
       "      <td>42598.0</td>\n",
       "      <td>...</td>\n",
       "      <td>1050511.0</td>\n",
       "      <td>3581.0</td>\n",
       "      <td>2000.0</td>\n",
       "      <td>5000.0</td>\n",
       "      <td>190.0</td>\n",
       "      <td>14000.0</td>\n",
       "      <td>18000.0</td>\n",
       "      <td>2008.0</td>\n",
       "      <td>88000.0</td>\n",
       "      <td>1331948.0</td>\n",
       "    </tr>\n",
       "  </tbody>\n",
       "</table>\n",
       "<p>5 rows × 23 columns</p>\n",
       "</div>"
      ],
      "text/plain": [
       "       Country  period  Arms and Ammunition  Building materials  \\\n",
       "0  Afghanistan    2005                  NaN                 NaN   \n",
       "1      Albania    2005                504.0             23914.0   \n",
       "2      Algeria    2005                  NaN             21989.0   \n",
       "3      Andorra    2005                  NaN                 NaN   \n",
       "4       Angola    2005                 40.0              1252.0   \n",
       "\n",
       "   Charges for the use of intellectual property n.i.e  Chemicals and minerals  \\\n",
       "0                                                NaN                      NaN   \n",
       "1                                             1000.0                  37395.0   \n",
       "2                                                NaN               45574415.0   \n",
       "3                                                NaN                      NaN   \n",
       "4                                            49000.0                  18561.0   \n",
       "\n",
       "   Clothing and accessories  Construction  Financial services  Food and drink  \\\n",
       "0                       NaN           NaN                 NaN             NaN   \n",
       "1                  394057.0        3000.0             16000.0         53893.0   \n",
       "2                   11401.0      167000.0             48000.0         70490.0   \n",
       "3                       NaN           NaN                 NaN             NaN   \n",
       "4                    1125.0           NaN                 NaN         42598.0   \n",
       "\n",
       "   ...     Metals    Other  Other business services  \\\n",
       "0  ...        NaN      NaN                      NaN   \n",
       "1  ...   101756.0  15403.0                  57000.0   \n",
       "2  ...   267077.0   3471.0                 637000.0   \n",
       "3  ...        NaN      NaN                      NaN   \n",
       "4  ...  1050511.0   3581.0                   2000.0   \n",
       "\n",
       "   Personal, cultural, and recreational services  Plastics and rubber  \\\n",
       "0                                            NaN                  NaN   \n",
       "1                                        18000.0               4022.0   \n",
       "2                                         4000.0              23669.0   \n",
       "3                                            NaN                  NaN   \n",
       "4                                         5000.0                190.0   \n",
       "\n",
       "   Telecommunications, computer, and information services  Transport  \\\n",
       "0                                                NaN             NaN   \n",
       "1                                            74000.0        126000.0   \n",
       "2                                            96000.0        851000.0   \n",
       "3                                                NaN             NaN   \n",
       "4                                            14000.0         18000.0   \n",
       "\n",
       "   Transport equip    Travel       TOTAL  \n",
       "0              NaN       NaN         0.0  \n",
       "1           2182.0  854000.0   1823093.0  \n",
       "2          12136.0  184000.0  48508722.0  \n",
       "3              NaN       NaN         0.0  \n",
       "4           2008.0   88000.0   1331948.0  \n",
       "\n",
       "[5 rows x 23 columns]"
      ]
     },
     "execution_count": 3,
     "metadata": {},
     "output_type": "execute_result"
    }
   ],
   "source": [
    "# check the data\n",
    "\n",
    "input.head()"
   ]
  },
  {
   "cell_type": "code",
   "execution_count": 4,
   "metadata": {},
   "outputs": [
    {
     "data": {
      "text/plain": [
       "(2354, 23)"
      ]
     },
     "execution_count": 4,
     "metadata": {},
     "output_type": "execute_result"
    }
   ],
   "source": [
    "# check the shape of the data\n",
    "\n",
    "input.shape"
   ]
  },
  {
   "cell_type": "code",
   "execution_count": 5,
   "metadata": {},
   "outputs": [
    {
     "data": {
      "text/plain": [
       "214"
      ]
     },
     "execution_count": 5,
     "metadata": {},
     "output_type": "execute_result"
    }
   ],
   "source": [
    "# number of countries in the data\n",
    "\n",
    "input['Country'].nunique()"
   ]
  },
  {
   "cell_type": "code",
   "execution_count": 6,
   "metadata": {},
   "outputs": [
    {
     "data": {
      "text/plain": [
       "11"
      ]
     },
     "execution_count": 6,
     "metadata": {},
     "output_type": "execute_result"
    }
   ],
   "source": [
    "# what all years are there in the data?\n",
    "\n",
    "input['period'].nunique()"
   ]
  },
  {
   "cell_type": "code",
   "execution_count": 7,
   "metadata": {},
   "outputs": [
    {
     "data": {
      "text/plain": [
       "count\n",
       "11    214\n",
       "Name: count, dtype: int64"
      ]
     },
     "execution_count": 7,
     "metadata": {},
     "output_type": "execute_result"
    }
   ],
   "source": [
    "# is there any country thats not in one of the years?\n",
    "# it should return 11 if true, as each country appears 11 times for all 11 years\n",
    "\n",
    "input['Country'].value_counts().value_counts()"
   ]
  },
  {
   "cell_type": "code",
   "execution_count": 8,
   "metadata": {},
   "outputs": [
    {
     "data": {
      "text/plain": [
       "Country\n",
       "Cayman Islands                220\n",
       "Curacao                       220\n",
       "Uzbekistan                    220\n",
       "Congo, Democratic Republic    205\n",
       "Tajikistan                    190\n",
       "                             ... \n",
       "Lithuania                       0\n",
       "Denmark                         0\n",
       "Tapei, Chinese                  0\n",
       "Thailand                        0\n",
       "Latvia                          0\n",
       "Name: missing_values, Length: 214, dtype: int64"
      ]
     },
     "execution_count": 8,
     "metadata": {},
     "output_type": "execute_result"
    }
   ],
   "source": [
    "# find which countries have the most missing values\n",
    "\n",
    "input['missing_values'] = input.isnull().sum(axis=1)\n",
    "\n",
    "input.groupby('Country')['missing_values'].sum().sort_values(ascending=False)"
   ]
  },
  {
   "cell_type": "markdown",
   "metadata": {},
   "source": [
    "<mark> Countries with value 220 means all the data is missing *(20 different exports and 11 years, 20 * 11 = 220)* </mark>"
   ]
  },
  {
   "cell_type": "code",
   "execution_count": 9,
   "metadata": {},
   "outputs": [],
   "source": [
    "# lets remove this 'missing_values' column we just added\n",
    "\n",
    "input.drop('missing_values', axis=1, inplace=True)"
   ]
  },
  {
   "cell_type": "markdown",
   "metadata": {},
   "source": [
    "### Finding the top five countries with the highest values for each export"
   ]
  },
  {
   "cell_type": "code",
   "execution_count": 10,
   "metadata": {},
   "outputs": [
    {
     "data": {
      "text/plain": [
       "Country\n",
       "United States of America    36850020.0\n",
       "Italy                        6253871.0\n",
       "Germany                      4549828.0\n",
       "Norway                       4062342.0\n",
       "France                       3379198.0\n",
       "Name: Arms and Ammunition, dtype: float64"
      ]
     },
     "execution_count": 10,
     "metadata": {},
     "output_type": "execute_result"
    }
   ],
   "source": [
    "# countries with highest 'Arms and Ammunition' export\n",
    "\n",
    "input.groupby('Country')['Arms and Ammunition'].sum().sort_values(ascending=False).head()"
   ]
  },
  {
   "cell_type": "code",
   "execution_count": 11,
   "metadata": {},
   "outputs": [
    {
     "data": {
      "text/plain": [
       "Country\n",
       "China                       626618311.0\n",
       "Germany                     572069807.0\n",
       "United States of America    502246000.0\n",
       "Canada                      340688134.0\n",
       "Djibouti                    276298012.0\n",
       "Name: Building materials, dtype: float64"
      ]
     },
     "execution_count": 11,
     "metadata": {},
     "output_type": "execute_result"
    }
   ],
   "source": [
    "# countries with highest 'Building materials' export\n",
    "\n",
    "input.groupby('Country')['Building materials'].sum().sort_values(ascending=False).head()"
   ]
  },
  {
   "cell_type": "code",
   "execution_count": 12,
   "metadata": {},
   "outputs": [
    {
     "data": {
      "text/plain": [
       "Country\n",
       "United States of America    1.046610e+09\n",
       "Japan                       3.013450e+08\n",
       "Netherlands                 2.299490e+08\n",
       "Switzerland                 1.762160e+08\n",
       "United Kingdom              1.733682e+08\n",
       "Name: Charges for the use of intellectual property n.i.e, dtype: float64"
      ]
     },
     "execution_count": 12,
     "metadata": {},
     "output_type": "execute_result"
    }
   ],
   "source": [
    "# countries with highest 'Charges for the use of intellectual property n.i.e' export\n",
    "\n",
    "input.groupby('Country')['Charges for the use of intellectual property n.i.e'].sum().sort_values(ascending=False).head()"
   ]
  },
  {
   "cell_type": "code",
   "execution_count": 13,
   "metadata": {},
   "outputs": [
    {
     "data": {
      "text/plain": [
       "Country\n",
       "Russian Federation          3.140169e+09\n",
       "Saudi Arabia                2.781857e+09\n",
       "United States of America    2.641245e+09\n",
       "Germany                     2.065715e+09\n",
       "Belgium                     1.540946e+09\n",
       "Name: Chemicals and minerals, dtype: float64"
      ]
     },
     "execution_count": 13,
     "metadata": {},
     "output_type": "execute_result"
    }
   ],
   "source": [
    "# countries with highest 'Chemicals and minerals' export\n",
    "\n",
    "input.groupby('Country')['Chemicals and minerals'].sum().sort_values(ascending=False).head()"
   ]
  },
  {
   "cell_type": "code",
   "execution_count": 14,
   "metadata": {},
   "outputs": [
    {
     "data": {
      "text/plain": [
       "Country\n",
       "China       3.054780e+09\n",
       "Italy       6.279256e+08\n",
       "Djibouti    4.844045e+08\n",
       "Germany     4.392089e+08\n",
       "India       3.643407e+08\n",
       "Name: Clothing and accessories, dtype: float64"
      ]
     },
     "execution_count": 14,
     "metadata": {},
     "output_type": "execute_result"
    }
   ],
   "source": [
    "# countries with highest 'Clothing and accessories' export\n",
    "\n",
    "input.groupby('Country')['Clothing and accessories'].sum().sort_values(ascending=False).head()"
   ]
  },
  {
   "cell_type": "code",
   "execution_count": 15,
   "metadata": {},
   "outputs": [
    {
     "data": {
      "text/plain": [
       "Country\n",
       "South Korea    148778600.0\n",
       "Japan          117559000.0\n",
       "Germany        115957000.0\n",
       "China          114650000.0\n",
       "France          45216000.0\n",
       "Name: Construction, dtype: float64"
      ]
     },
     "execution_count": 15,
     "metadata": {},
     "output_type": "execute_result"
    }
   ],
   "source": [
    "# countries with highest 'Construction' export\n",
    "\n",
    "input.groupby('Country')['Construction'].sum().sort_values(ascending=False).head()"
   ]
  },
  {
   "cell_type": "code",
   "execution_count": 16,
   "metadata": {},
   "outputs": [
    {
     "data": {
      "text/plain": [
       "Country\n",
       "United States of America    970071000.0\n",
       "United Kingdom              727633280.0\n",
       "Luxembourg                  483760000.0\n",
       "Germany                     260521000.0\n",
       "Switzerland                 255948000.0\n",
       "Name: Financial services, dtype: float64"
      ]
     },
     "execution_count": 16,
     "metadata": {},
     "output_type": "execute_result"
    }
   ],
   "source": [
    "# countries with highest 'Financial services' export\n",
    "\n",
    "input.groupby('Country')['Financial services'].sum().sort_values(ascending=False).head()"
   ]
  },
  {
   "cell_type": "code",
   "execution_count": 17,
   "metadata": {},
   "outputs": [
    {
     "data": {
      "text/plain": [
       "Country\n",
       "United States of America    1.280731e+09\n",
       "Netherlands                 8.923862e+08\n",
       "Germany                     7.956509e+08\n",
       "France                      7.197702e+08\n",
       "Brazil                      6.831843e+08\n",
       "Name: Food and drink, dtype: float64"
      ]
     },
     "execution_count": 17,
     "metadata": {},
     "output_type": "execute_result"
    }
   ],
   "source": [
    "# countries with highest 'Food and drink' export\n",
    "\n",
    "input.groupby('Country')['Food and drink'].sum().sort_values(ascending=False).head()"
   ]
  },
  {
   "cell_type": "code",
   "execution_count": 18,
   "metadata": {},
   "outputs": [
    {
     "data": {
      "text/plain": [
       "Country\n",
       "United States of America    219807000.0\n",
       "Germany                      60455000.0\n",
       "United Kingdom               42630635.0\n",
       "Japan                        31270000.0\n",
       "Netherlands                  23070000.0\n",
       "Name: Government goods and services n.i.e, dtype: float64"
      ]
     },
     "execution_count": 18,
     "metadata": {},
     "output_type": "execute_result"
    }
   ],
   "source": [
    "# countries with highest 'Government goods and services n.i.e' export\n",
    "\n",
    "input.groupby('Country')['Government goods and services n.i.e'].sum().sort_values(ascending=False).head()"
   ]
  },
  {
   "cell_type": "code",
   "execution_count": 19,
   "metadata": {},
   "outputs": [
    {
     "data": {
      "text/plain": [
       "Country\n",
       "United Kingdom              221124205.0\n",
       "United States of America    149508000.0\n",
       "Ireland                     120571000.0\n",
       "Germany                      91434000.0\n",
       "Switzerland                  63872000.0\n",
       "Name: Insurance and pension services, dtype: float64"
      ]
     },
     "execution_count": 19,
     "metadata": {},
     "output_type": "execute_result"
    }
   ],
   "source": [
    "# top five countries with highest 'Insurance and pension services' export\n",
    "\n",
    "input.groupby('Country')['Insurance and pension services'].sum().sort_values(ascending=False).head()"
   ]
  },
  {
   "cell_type": "code",
   "execution_count": 20,
   "metadata": {},
   "outputs": [
    {
     "data": {
      "text/plain": [
       "Country\n",
       "China                       7.655152e+09\n",
       "Germany                     4.005751e+09\n",
       "United States of America    3.823271e+09\n",
       "Japan                       2.829440e+09\n",
       "South Korea                 1.774268e+09\n",
       "Name: Machinery, dtype: float64"
      ]
     },
     "execution_count": 20,
     "metadata": {},
     "output_type": "execute_result"
    }
   ],
   "source": [
    "# top five countries with highest 'Machinery' export\n",
    "\n",
    "input.groupby('Country')['Machinery'].sum().sort_values(ascending=False).head()"
   ]
  },
  {
   "cell_type": "code",
   "execution_count": 21,
   "metadata": {},
   "outputs": [
    {
     "data": {
      "text/plain": [
       "Country\n",
       "China                       1.665804e+09\n",
       "Germany                     1.323814e+09\n",
       "United States of America    1.322341e+09\n",
       "Japan                       7.960982e+08\n",
       "United Kingdom              6.765773e+08\n",
       "Name: Metals, dtype: float64"
      ]
     },
     "execution_count": 21,
     "metadata": {},
     "output_type": "execute_result"
    }
   ],
   "source": [
    "# top five countries with highest 'Metals' export\n",
    "\n",
    "input.groupby('Country')['Metals'].sum().sort_values(ascending=False).head()"
   ]
  },
  {
   "cell_type": "code",
   "execution_count": 22,
   "metadata": {},
   "outputs": [
    {
     "data": {
      "text/plain": [
       "Country\n",
       "United States of America    2.229587e+09\n",
       "China                       1.746298e+09\n",
       "Germany                     1.601250e+09\n",
       "Djibouti                    9.745987e+08\n",
       "Netherlands                 8.869224e+08\n",
       "Name: Other, dtype: float64"
      ]
     },
     "execution_count": 22,
     "metadata": {},
     "output_type": "execute_result"
    }
   ],
   "source": [
    "# top five countries with highest 'Other' export\n",
    "\n",
    "input.groupby('Country')['Other'].sum().sort_values(ascending=False).head()"
   ]
  },
  {
   "cell_type": "code",
   "execution_count": 23,
   "metadata": {},
   "outputs": [
    {
     "data": {
      "text/plain": [
       "Country\n",
       "United States of America    1.247912e+09\n",
       "United Kingdom              9.741582e+08\n",
       "Germany                     8.438850e+08\n",
       "France                      7.353770e+08\n",
       "China                       7.245070e+08\n",
       "Name: Other business services, dtype: float64"
      ]
     },
     "execution_count": 23,
     "metadata": {},
     "output_type": "execute_result"
    }
   ],
   "source": [
    "# top five countries with highest 'Other business services' export\n",
    "\n",
    "input.groupby('Country')['Other business services'].sum().sort_values(ascending=False).head()"
   ]
  },
  {
   "cell_type": "code",
   "execution_count": 24,
   "metadata": {},
   "outputs": [
    {
     "data": {
      "text/plain": [
       "Country\n",
       "United States of America    200824000.0\n",
       "United Kingdom               48854908.0\n",
       "France                       30889000.0\n",
       "Canada                       25790000.0\n",
       "Luxembourg                   21534000.0\n",
       "Name: Personal, cultural, and recreational services, dtype: float64"
      ]
     },
     "execution_count": 24,
     "metadata": {},
     "output_type": "execute_result"
    }
   ],
   "source": [
    "# top five countries with highest 'Personal, cultural, and recreational services' export\n",
    "\n",
    "input.groupby('Country')['Personal, cultural, and recreational services'].sum().sort_values(ascending=False).head()"
   ]
  },
  {
   "cell_type": "code",
   "execution_count": 25,
   "metadata": {},
   "outputs": [
    {
     "data": {
      "text/plain": [
       "Country\n",
       "Germany                     763409156.0\n",
       "United States of America    714641557.0\n",
       "China                       621702957.0\n",
       "Japan                       394657709.0\n",
       "Belgium                     368972458.0\n",
       "Name: Plastics and rubber, dtype: float64"
      ]
     },
     "execution_count": 25,
     "metadata": {},
     "output_type": "execute_result"
    }
   ],
   "source": [
    "# top five countries with highest 'Plastics and rubber' export\n",
    "\n",
    "input.groupby('Country')['Plastics and rubber'].sum().sort_values(ascending=False).head()"
   ]
  },
  {
   "cell_type": "code",
   "execution_count": 26,
   "metadata": {},
   "outputs": [
    {
     "data": {
      "text/plain": [
       "Country\n",
       "India                       438910000.0\n",
       "Ireland                     355150000.0\n",
       "United States of America    307801000.0\n",
       "Germany                     235246000.0\n",
       "United Kingdom              139079424.0\n",
       "Name: Telecommunications, computer, and information services, dtype: float64"
      ]
     },
     "execution_count": 26,
     "metadata": {},
     "output_type": "execute_result"
    }
   ],
   "source": [
    "# top five countries with highest 'Telecommunications, computer, and information services' export\n",
    "\n",
    "input.groupby('Country')['Telecommunications, computer, and information services'].sum().sort_values(ascending=False).head()"
   ]
  },
  {
   "cell_type": "code",
   "execution_count": 27,
   "metadata": {},
   "outputs": [
    {
     "data": {
      "text/plain": [
       "Country\n",
       "United States of America    849928000.0\n",
       "Germany                     592769000.0\n",
       "France                      451507000.0\n",
       "Japan                       435316000.0\n",
       "Denmark                     422666000.0\n",
       "Name: Transport, dtype: float64"
      ]
     },
     "execution_count": 27,
     "metadata": {},
     "output_type": "execute_result"
    }
   ],
   "source": [
    "# top five countries with highest 'Transport' export\n",
    "\n",
    "input.groupby('Country')['Transport'].sum().sort_values(ascending=False).head()"
   ]
  },
  {
   "cell_type": "code",
   "execution_count": 28,
   "metadata": {},
   "outputs": [
    {
     "data": {
      "text/plain": [
       "Country\n",
       "Germany                     2.873224e+09\n",
       "Japan                       1.828012e+09\n",
       "United States of America    1.563069e+09\n",
       "France                      1.087883e+09\n",
       "South Korea                 1.037240e+09\n",
       "Name: Transport equip, dtype: float64"
      ]
     },
     "execution_count": 28,
     "metadata": {},
     "output_type": "execute_result"
    }
   ],
   "source": [
    "# top five countries with highest 'Transport equip' export\n",
    "\n",
    "input.groupby('Country')['Transport equip'].sum().sort_values(ascending=False).head()"
   ]
  },
  {
   "cell_type": "code",
   "execution_count": 29,
   "metadata": {},
   "outputs": [
    {
     "data": {
      "text/plain": [
       "Country\n",
       "United States of America    1.494555e+09\n",
       "Spain                       6.417183e+08\n",
       "France                      6.018450e+08\n",
       "China                       4.659790e+08\n",
       "Italy                       4.546850e+08\n",
       "Name: Travel, dtype: float64"
      ]
     },
     "execution_count": 29,
     "metadata": {},
     "output_type": "execute_result"
    }
   ],
   "source": [
    "# top five countries with highest 'Travel' export\n",
    "\n",
    "input.groupby('Country')['Travel'].sum().sort_values(ascending=False).head()"
   ]
  },
  {
   "cell_type": "markdown",
   "metadata": {},
   "source": [
    "### Top five countries with highest value for exports (TOTAL)"
   ]
  },
  {
   "cell_type": "code",
   "execution_count": 30,
   "metadata": {},
   "outputs": [
    {
     "data": {
      "text/plain": [
       "Country\n",
       "United States of America    2.096525e+10\n",
       "China                       1.979091e+10\n",
       "Germany                     1.717110e+10\n",
       "Japan                       9.210458e+09\n",
       "United Kingdom              8.243027e+09\n",
       "Name: TOTAL, dtype: float64"
      ]
     },
     "execution_count": 30,
     "metadata": {},
     "output_type": "execute_result"
    }
   ],
   "source": [
    "# top five countries with highest 'TOTAL' export\n",
    "\n",
    "input.groupby('Country')['TOTAL'].sum().sort_values(ascending=False).head()"
   ]
  },
  {
   "cell_type": "markdown",
   "metadata": {},
   "source": [
    "### Average export value for each export"
   ]
  },
  {
   "cell_type": "code",
   "execution_count": 31,
   "metadata": {},
   "outputs": [
    {
     "data": {
      "text/plain": [
       "Chemicals and minerals                                    1.932150e+07\n",
       "Machinery                                                 1.764181e+07\n",
       "Metals                                                    7.738373e+06\n",
       "Transport equip                                           7.567866e+06\n",
       "Other                                                     7.151514e+06\n",
       "Food and drink                                            5.982532e+06\n",
       "Other business services                                   5.576436e+06\n",
       "Travel                                                    5.190841e+06\n",
       "Transport                                                 4.295660e+06\n",
       "Clothing and accessories                                  4.187526e+06\n",
       "Plastics and rubber                                       3.152705e+06\n",
       "Building materials                                        2.536557e+06\n",
       "Financial services                                        2.181019e+06\n",
       "Charges for the use of intellectual property n.i.e        2.130481e+06\n",
       "Telecommunications, computer, and information services    1.816173e+06\n",
       "Construction                                              7.583597e+05\n",
       "Insurance and pension services                            5.944664e+05\n",
       "Government goods and services n.i.e                       3.985730e+05\n",
       "Personal, cultural, and recreational services             3.726730e+05\n",
       "Arms and Ammunition                                       5.114670e+04\n",
       "dtype: float64"
      ]
     },
     "execution_count": 31,
     "metadata": {},
     "output_type": "execute_result"
    }
   ],
   "source": [
    "# best export categories with the highest average export value for all of the countries\n",
    "\n",
    "input.drop([\"period\", \"TOTAL\"], axis = 1).groupby('Country').mean().mean().sort_values(ascending=False)"
   ]
  },
  {
   "cell_type": "markdown",
   "metadata": {},
   "source": [
    "### Best performing years for all countries"
   ]
  },
  {
   "cell_type": "code",
   "execution_count": 32,
   "metadata": {},
   "outputs": [
    {
     "data": {
      "text/plain": [
       "period\n",
       "2014    2.420023e+10\n",
       "2013    2.369681e+10\n",
       "2012    2.295461e+10\n",
       "2011    2.269758e+10\n",
       "2015    2.140012e+10\n",
       "2008    2.023700e+10\n",
       "2010    1.918031e+10\n",
       "2007    1.756501e+10\n",
       "2009    1.605744e+10\n",
       "2006    1.511179e+10\n",
       "2005    1.299551e+10\n",
       "dtype: float64"
      ]
     },
     "execution_count": 32,
     "metadata": {},
     "output_type": "execute_result"
    }
   ],
   "source": [
    "# which years had the highest export values?\n",
    "\n",
    "input.drop([\"Country\", \"TOTAL\"], axis = 1).groupby('period').sum().sum(axis=1).sort_values(ascending=False)"
   ]
  },
  {
   "cell_type": "markdown",
   "metadata": {},
   "source": [
    "### Finding the country with the best improvement in export value from 2005-2015 for 'Travel'"
   ]
  },
  {
   "cell_type": "code",
   "execution_count": 33,
   "metadata": {},
   "outputs": [
    {
     "name": "stdout",
     "output_type": "stream",
     "text": [
      "Country        United States of America\n",
      "Travel_2005                  93423000.0\n",
      "Travel_2015                 192602000.0\n",
      "Improvement                  99179000.0\n",
      "Name: 204, dtype: object\n"
     ]
    }
   ],
   "source": [
    "# filter the data for the years 2005 and 2015\n",
    "input_2005 = input[input['period'] == 2005]\n",
    "input_2015 = input[input['period'] == 2015]\n",
    "\n",
    "# merge the data on the 'Country' column to compare RCA values\n",
    "merged = pd.merge(input_2005[['Country', 'Travel']], input_2015[['Country', 'Travel']], on='Country', suffixes=('_2005', '_2015'))\n",
    "\n",
    "# calculate the improvement in RCA\n",
    "merged['Improvement'] = merged['Travel_2015'] - merged['Travel_2005']\n",
    "\n",
    "# Find the country with the biggest improvement\n",
    "best = merged.loc[merged['Improvement'].idxmax()]\n",
    "\n",
    "print(best)"
   ]
  },
  {
   "cell_type": "markdown",
   "metadata": {},
   "source": [
    "## Exploratory Data Analysis for the Ouput\n",
    "\n",
    "Going through the output data to better understand it using Pandas."
   ]
  },
  {
   "cell_type": "markdown",
   "metadata": {},
   "source": [
    "What does RCA mean for a country and whats a good score?\n",
    "\n",
    "When a country has a RCA > 1, it is inferred to be a competitive producer and exporter of that product relative to a country producing and exporting that good at or below the world average. A country with a revealed comparative advantage in product i is considered to have an export strength in that product. The higher the value of a country’s RCA for product i, the higher its export strength in product i."
   ]
  },
  {
   "cell_type": "markdown",
   "metadata": {},
   "source": [
    "### Finding the top five countries with the highest RCA for each export"
   ]
  },
  {
   "cell_type": "code",
   "execution_count": 34,
   "metadata": {},
   "outputs": [],
   "source": [
    "# load in the output data\n",
    "\n",
    "output = pd.read_excel(\"Trade analysis task.xlsx\", sheet_name='Output - RCA')"
   ]
  },
  {
   "cell_type": "code",
   "execution_count": 35,
   "metadata": {},
   "outputs": [
    {
     "data": {
      "text/plain": [
       "Country\n",
       "Tokelau               251.134867\n",
       "Burundi               186.655399\n",
       "Malawi                132.388229\n",
       "Bosnia Herzegovina    118.769273\n",
       "Tonga                  87.835377\n",
       "Name: Arms and Ammunition, dtype: float64"
      ]
     },
     "execution_count": 35,
     "metadata": {},
     "output_type": "execute_result"
    }
   ],
   "source": [
    "# countries with highest 'Arms and Ammunition' RCA\n",
    "\n",
    "output.groupby('Country')['Arms and Ammunition'].sum().sort_values(ascending=False).head()"
   ]
  },
  {
   "cell_type": "code",
   "execution_count": 36,
   "metadata": {},
   "outputs": [
    {
     "data": {
      "text/plain": [
       "Country\n",
       "Solomon Islands             150.692280\n",
       "Central African Republic    140.906039\n",
       "State of Palestine           91.203531\n",
       "Finland                      65.930556\n",
       "Latvia                       57.736273\n",
       "Name: Building materials, dtype: float64"
      ]
     },
     "execution_count": 36,
     "metadata": {},
     "output_type": "execute_result"
    }
   ],
   "source": [
    "# countries with highest 'Building materials' RCA\n",
    "\n",
    "output.groupby('Country')['Building materials'].sum().sort_values(ascending=False).head()"
   ]
  },
  {
   "cell_type": "code",
   "execution_count": 37,
   "metadata": {},
   "outputs": [
    {
     "data": {
      "text/plain": [
       "Country\n",
       "United States of America    47.712730\n",
       "Switzerland                 41.953156\n",
       "Malta                       38.779602\n",
       "Guyana                      32.205707\n",
       "Japan                       30.292114\n",
       "Name: Charges for the use of intellectual property n.i.e, dtype: float64"
      ]
     },
     "execution_count": 37,
     "metadata": {},
     "output_type": "execute_result"
    }
   ],
   "source": [
    "# countries with highest 'Charges for the use of intellectual property n.i.e' RCA\n",
    "\n",
    "output.groupby('Country')['Charges for the use of intellectual property n.i.e'].sum().sort_values(ascending=False).head()"
   ]
  },
  {
   "cell_type": "code",
   "execution_count": 38,
   "metadata": {},
   "outputs": [
    {
     "data": {
      "text/plain": [
       "Country\n",
       "Equatorial Guinea    52.536609\n",
       "Chad                 51.983089\n",
       "Algeria              51.618592\n",
       "Venezuela            48.735797\n",
       "Brunei Darussalam    47.953207\n",
       "Name: Chemicals and minerals, dtype: float64"
      ]
     },
     "execution_count": 38,
     "metadata": {},
     "output_type": "execute_result"
    }
   ],
   "source": [
    "# countries with highest 'Chemicals and minerals' RCA\n",
    "\n",
    "output.groupby('Country')['Chemicals and minerals'].sum().sort_values(ascending=False).head()"
   ]
  },
  {
   "cell_type": "code",
   "execution_count": 39,
   "metadata": {},
   "outputs": [
    {
     "data": {
      "text/plain": [
       "Country\n",
       "Bangladesh    195.052037\n",
       "Pakistan      124.038878\n",
       "Cambodia      123.392648\n",
       "Lesotho       104.425262\n",
       "Tokelau        84.976583\n",
       "Name: Clothing and accessories, dtype: float64"
      ]
     },
     "execution_count": 39,
     "metadata": {},
     "output_type": "execute_result"
    }
   ],
   "source": [
    "# countries with highest 'Clothing and accessories' RCA\n",
    "\n",
    "output.groupby('Country')['Clothing and accessories'].sum().sort_values(ascending=False).head()"
   ]
  },
  {
   "cell_type": "code",
   "execution_count": 40,
   "metadata": {},
   "outputs": [
    {
     "data": {
      "text/plain": [
       "Country\n",
       "Afghanistan         452.848144\n",
       "Kiribati            154.232572\n",
       "Papua New Guinea    126.327391\n",
       "Armenia              81.368232\n",
       "Tonga                65.811349\n",
       "Name: Construction, dtype: float64"
      ]
     },
     "execution_count": 40,
     "metadata": {},
     "output_type": "execute_result"
    }
   ],
   "source": [
    "# countries with highest 'Construction' RCA\n",
    "\n",
    "output.groupby('Country')['Construction'].sum().sort_values(ascending=False).head()"
   ]
  },
  {
   "cell_type": "code",
   "execution_count": 41,
   "metadata": {},
   "outputs": [
    {
     "data": {
      "text/plain": [
       "Country\n",
       "Luxembourg        323.347916\n",
       "Malta             155.645210\n",
       "Cyprus            112.692541\n",
       "Kiribati           87.197291\n",
       "United Kingdom     54.274230\n",
       "Name: Financial services, dtype: float64"
      ]
     },
     "execution_count": 41,
     "metadata": {},
     "output_type": "execute_result"
    }
   ],
   "source": [
    "# countries with highest 'Financial services' RCA\n",
    "\n",
    "output.groupby('Country')['Financial services'].sum().sort_values(ascending=False).head()"
   ]
  },
  {
   "cell_type": "code",
   "execution_count": 42,
   "metadata": {},
   "outputs": [
    {
     "data": {
      "text/plain": [
       "Country\n",
       "Faroe Islands       161.675470\n",
       "Falkland Islands    151.624330\n",
       "Greenland           148.738028\n",
       "Somalia             128.616786\n",
       "Malawi              128.436656\n",
       "Name: Food and drink, dtype: float64"
      ]
     },
     "execution_count": 42,
     "metadata": {},
     "output_type": "execute_result"
    }
   ],
   "source": [
    "# countries with highest 'Food and drink' RCA\n",
    "\n",
    "output.groupby('Country')['Food and drink'].sum().sort_values(ascending=False).head()"
   ]
  },
  {
   "cell_type": "code",
   "execution_count": 43,
   "metadata": {},
   "outputs": [
    {
     "data": {
      "text/plain": [
       "Country\n",
       "Burundi             731.985001\n",
       "Timor-Leste         565.302809\n",
       "Nepal               530.311101\n",
       "French Polynesia    487.647642\n",
       "Rwanda              452.281730\n",
       "Name: Government goods and services n.i.e, dtype: float64"
      ]
     },
     "execution_count": 43,
     "metadata": {},
     "output_type": "execute_result"
    }
   ],
   "source": [
    "# countries with highest 'Government goods and services n.i.e' RCA\n",
    "\n",
    "output.groupby('Country')['Government goods and services n.i.e'].sum().sort_values(ascending=False).head()"
   ]
  },
  {
   "cell_type": "code",
   "execution_count": 44,
   "metadata": {},
   "outputs": [
    {
     "data": {
      "text/plain": [
       "Country\n",
       "Bahrain                197.597143\n",
       "Ireland                123.695690\n",
       "Luxembourg              85.956971\n",
       "Grenada                 67.530235\n",
       "Antigua and Barbuda     66.174088\n",
       "Name: Insurance and pension services, dtype: float64"
      ]
     },
     "execution_count": 44,
     "metadata": {},
     "output_type": "execute_result"
    }
   ],
   "source": [
    "# top five countries with highest 'Insurance and pension services' RCA\n",
    "\n",
    "output.groupby('Country')['Insurance and pension services'].sum().sort_values(ascending=False).head()"
   ]
  },
  {
   "cell_type": "code",
   "execution_count": 45,
   "metadata": {},
   "outputs": [
    {
     "data": {
      "text/plain": [
       "Country\n",
       "British Indian Ocean Territory    29.449248\n",
       "Tapei, Chinese                    24.307160\n",
       "Philippines                       24.228579\n",
       "China                             22.566881\n",
       "Hungary                           21.652802\n",
       "Name: Machinery, dtype: float64"
      ]
     },
     "execution_count": 45,
     "metadata": {},
     "output_type": "execute_result"
    }
   ],
   "source": [
    "# top five countries with highest 'Machinery' RCA\n",
    "\n",
    "output.groupby('Country')['Machinery'].sum().sort_values(ascending=False).head()"
   ]
  },
  {
   "cell_type": "code",
   "execution_count": 46,
   "metadata": {},
   "outputs": [
    {
     "data": {
      "text/plain": [
       "Country\n",
       "Botswana                    99.797629\n",
       "Zambia                      88.538885\n",
       "Mali                        79.844421\n",
       "New Caledonia               66.512907\n",
       "Central African Republic    54.079713\n",
       "Name: Metals, dtype: float64"
      ]
     },
     "execution_count": 46,
     "metadata": {},
     "output_type": "execute_result"
    }
   ],
   "source": [
    "# top five countries with highest 'Metals' RCA\n",
    "\n",
    "output.groupby('Country')['Metals'].sum().sort_values(ascending=False).head()"
   ]
  },
  {
   "cell_type": "code",
   "execution_count": 47,
   "metadata": {},
   "outputs": [
    {
     "data": {
      "text/plain": [
       "Country\n",
       "Suriname                        104.404156\n",
       "Cuba                             55.193664\n",
       "United Arab Emirates             38.755264\n",
       "Mauritania                       32.455393\n",
       "French Southern and Antartic     29.895622\n",
       "Name: Other, dtype: float64"
      ]
     },
     "execution_count": 47,
     "metadata": {},
     "output_type": "execute_result"
    }
   ],
   "source": [
    "# top five countries with highest 'Other' RCA\n",
    "\n",
    "output.groupby('Country')['Other'].sum().sort_values(ascending=False).head()"
   ]
  },
  {
   "cell_type": "code",
   "execution_count": 48,
   "metadata": {},
   "outputs": [
    {
     "data": {
      "text/plain": [
       "Country\n",
       "Papua New Guinea        85.713607\n",
       "Lebanon                 66.658439\n",
       "Netherlands Antilles    56.919259\n",
       "Honduras                54.110490\n",
       "Malta                   34.575825\n",
       "Name: Other business services, dtype: float64"
      ]
     },
     "execution_count": 48,
     "metadata": {},
     "output_type": "execute_result"
    }
   ],
   "source": [
    "# top five countries with highest 'Other business services' RCA\n",
    "\n",
    "output.groupby('Country')['Other business services'].sum().sort_values(ascending=False).head()"
   ]
  },
  {
   "cell_type": "code",
   "execution_count": 49,
   "metadata": {},
   "outputs": [
    {
     "data": {
      "text/plain": [
       "Country\n",
       "Malta         546.937232\n",
       "Kiribati      207.411235\n",
       "Kyrgyzstan    118.337569\n",
       "Luxembourg     89.843720\n",
       "Tonga          81.246385\n",
       "Name: Personal, cultural, and recreational services, dtype: float64"
      ]
     },
     "execution_count": 49,
     "metadata": {},
     "output_type": "execute_result"
    }
   ],
   "source": [
    "# top five countries with highest 'Personal, cultural, and recreational services' RCA\n",
    "\n",
    "output.groupby('Country')['Personal, cultural, and recreational services'].sum().sort_values(ascending=False).head()"
   ]
  },
  {
   "cell_type": "code",
   "execution_count": 50,
   "metadata": {},
   "outputs": [
    {
     "data": {
      "text/plain": [
       "Country\n",
       "Thailand              32.716562\n",
       "Sri Lanka             22.511917\n",
       "Tapei, Chinese        22.386846\n",
       "State of Palestine    21.482162\n",
       "Belgium               21.372228\n",
       "Name: Plastics and rubber, dtype: float64"
      ]
     },
     "execution_count": 50,
     "metadata": {},
     "output_type": "execute_result"
    }
   ],
   "source": [
    "# top five countries with highest 'Plastics and rubber' RCA\n",
    "\n",
    "output.groupby('Country')['Plastics and rubber'].sum().sort_values(ascending=False).head()"
   ]
  },
  {
   "cell_type": "code",
   "execution_count": 51,
   "metadata": {},
   "outputs": [
    {
     "data": {
      "text/plain": [
       "Country\n",
       "Montserrat      171.576978\n",
       "Comoros         170.605486\n",
       "Sierra Leone    149.719069\n",
       "India           100.837277\n",
       "Ireland          96.556146\n",
       "Name: Telecommunications, computer, and information services, dtype: float64"
      ]
     },
     "execution_count": 51,
     "metadata": {},
     "output_type": "execute_result"
    }
   ],
   "source": [
    "# top five countries with highest 'Telecommunications, computer, and information services' RCA\n",
    "\n",
    "output.groupby('Country')['Telecommunications, computer, and information services'].sum().sort_values(ascending=False).head()"
   ]
  },
  {
   "cell_type": "code",
   "execution_count": 52,
   "metadata": {},
   "outputs": [
    {
     "data": {
      "text/plain": [
       "Country\n",
       "Ethiopia            85.262276\n",
       "Greece              77.824286\n",
       "Cyprus              68.189998\n",
       "Denmark             63.364899\n",
       "French Polynesia    62.591351\n",
       "Name: Transport, dtype: float64"
      ]
     },
     "execution_count": 52,
     "metadata": {},
     "output_type": "execute_result"
    }
   ],
   "source": [
    "# top five countries with highest 'Transport' RCA\n",
    "\n",
    "output.groupby('Country')['Transport'].sum().sort_values(ascending=False).head()"
   ]
  },
  {
   "cell_type": "code",
   "execution_count": 53,
   "metadata": {},
   "outputs": [
    {
     "data": {
      "text/plain": [
       "Country\n",
       "Marshall Islands    107.778925\n",
       "Timor-Leste          30.632855\n",
       "Congo                29.333831\n",
       "Slovakia             28.472003\n",
       "Japan                26.961239\n",
       "Name: Transport equip, dtype: float64"
      ]
     },
     "execution_count": 53,
     "metadata": {},
     "output_type": "execute_result"
    }
   ],
   "source": [
    "# top five countries with highest 'Transport equip' RCA\n",
    "\n",
    "output.groupby('Country')['Transport equip'].sum().sort_values(ascending=False).head()"
   ]
  },
  {
   "cell_type": "code",
   "execution_count": 54,
   "metadata": {},
   "outputs": [
    {
     "data": {
      "text/plain": [
       "Country\n",
       "Macao       192.823946\n",
       "Maldives    186.013664\n",
       "Anguilla    172.014787\n",
       "Aruba       168.360590\n",
       "Bahamas     154.029234\n",
       "Name: Travel, dtype: float64"
      ]
     },
     "execution_count": 54,
     "metadata": {},
     "output_type": "execute_result"
    }
   ],
   "source": [
    "# top five countries with highest 'Travel' RCA\n",
    "\n",
    "output.groupby('Country')['Travel'].sum().sort_values(ascending=False).head()"
   ]
  },
  {
   "cell_type": "markdown",
   "metadata": {},
   "source": [
    "<mark> By comparing these values to the top five countries that have the most export value for a given export category </mark>\n",
    "\n",
    "<mark> We can see that there is no direct relation between the export value and RCA. </mark>\n",
    "\n",
    "<mark> For example, the country with the highest travel export value is the US with USD 1.494555e+09 over the year range of 2005-2015. </mark>\n",
    "\n",
    "<mark> But Macao has the highest RCA for travel, for the same year range of 2005-2015. </mark>"
   ]
  },
  {
   "cell_type": "markdown",
   "metadata": {},
   "source": [
    "### Finding the country that had the best improvement of RCA Score from 2005 to 2015 for Travel"
   ]
  },
  {
   "cell_type": "code",
   "execution_count": 55,
   "metadata": {},
   "outputs": [
    {
     "name": "stdout",
     "output_type": "stream",
     "text": [
      "Country        Timor-Leste\n",
      "Travel_2005            0.0\n",
      "Travel_2015      10.955153\n",
      "Improvement      10.955153\n",
      "Name: 191, dtype: object\n"
     ]
    }
   ],
   "source": [
    "# filter the data for the years 2005 and 2015\n",
    "output_2005 = output[output['period'] == 2005]\n",
    "output_2015 = output[output['period'] == 2015]\n",
    "\n",
    "# merge the data on the 'Country' column to compare RCA values\n",
    "merged = pd.merge(output_2005[['Country', 'Travel']], output_2015[['Country', 'Travel']], on='Country', suffixes=('_2005', '_2015'))\n",
    "\n",
    "# calculate the improvement in RCA\n",
    "merged['Improvement'] = merged['Travel_2015'] - merged['Travel_2005']\n",
    "\n",
    "# Find the country with the biggest improvement\n",
    "best = merged.loc[merged['Improvement'].idxmax()]\n",
    "\n",
    "print(best)"
   ]
  },
  {
   "cell_type": "markdown",
   "metadata": {},
   "source": [
    "<mark> Again comparing to the export value improvement for travel, they both show different countries </mark>\n",
    "\n",
    "<mark> US had the best improvement in export value, while Timor-Leste had the best improvement in RCA </mark>"
   ]
  },
  {
   "cell_type": "markdown",
   "metadata": {},
   "source": [
    "## Insights drawn"
   ]
  },
  {
   "cell_type": "markdown",
   "metadata": {},
   "source": [
    "### Input: Travel Growth Rate"
   ]
  },
  {
   "cell_type": "markdown",
   "metadata": {},
   "source": [
    "We can calculate the annual growth rate of each category's export by comparing the export values from one year to the next. We can then identify which catagories are experiencing growth or decline over the years."
   ]
  },
  {
   "cell_type": "code",
   "execution_count": 56,
   "metadata": {},
   "outputs": [
    {
     "name": "stderr",
     "output_type": "stream",
     "text": [
      "/var/folders/vx/5tk112p12g31tcg7498x6wp00000gn/T/ipykernel_19407/2693252296.py:2: FutureWarning: The default fill_method='ffill' in SeriesGroupBy.pct_change is deprecated and will be removed in a future version. Either fill in any non-leading NA values prior to calling pct_change or specify 'fill_method=None' to not fill NA values.\n",
      "  input['Travel_growth_rate'] = input.groupby('Country')['Travel'].pct_change()\n"
     ]
    },
    {
     "data": {
      "text/html": [
       "<div>\n",
       "<style scoped>\n",
       "    .dataframe tbody tr th:only-of-type {\n",
       "        vertical-align: middle;\n",
       "    }\n",
       "\n",
       "    .dataframe tbody tr th {\n",
       "        vertical-align: top;\n",
       "    }\n",
       "\n",
       "    .dataframe thead th {\n",
       "        text-align: right;\n",
       "    }\n",
       "</style>\n",
       "<table border=\"1\" class=\"dataframe\">\n",
       "  <thead>\n",
       "    <tr style=\"text-align: right;\">\n",
       "      <th></th>\n",
       "      <th>Country</th>\n",
       "      <th>period</th>\n",
       "      <th>Travel</th>\n",
       "      <th>Travel_growth_rate</th>\n",
       "    </tr>\n",
       "  </thead>\n",
       "  <tbody>\n",
       "    <tr>\n",
       "      <th>0</th>\n",
       "      <td>Afghanistan</td>\n",
       "      <td>2005</td>\n",
       "      <td>NaN</td>\n",
       "      <td>NaN</td>\n",
       "    </tr>\n",
       "    <tr>\n",
       "      <th>1</th>\n",
       "      <td>Albania</td>\n",
       "      <td>2005</td>\n",
       "      <td>854000.0</td>\n",
       "      <td>NaN</td>\n",
       "    </tr>\n",
       "    <tr>\n",
       "      <th>2</th>\n",
       "      <td>Algeria</td>\n",
       "      <td>2005</td>\n",
       "      <td>184000.0</td>\n",
       "      <td>NaN</td>\n",
       "    </tr>\n",
       "    <tr>\n",
       "      <th>3</th>\n",
       "      <td>Andorra</td>\n",
       "      <td>2005</td>\n",
       "      <td>NaN</td>\n",
       "      <td>NaN</td>\n",
       "    </tr>\n",
       "    <tr>\n",
       "      <th>4</th>\n",
       "      <td>Angola</td>\n",
       "      <td>2005</td>\n",
       "      <td>88000.0</td>\n",
       "      <td>NaN</td>\n",
       "    </tr>\n",
       "    <tr>\n",
       "      <th>...</th>\n",
       "      <td>...</td>\n",
       "      <td>...</td>\n",
       "      <td>...</td>\n",
       "      <td>...</td>\n",
       "    </tr>\n",
       "    <tr>\n",
       "      <th>2349</th>\n",
       "      <td>Venezuela</td>\n",
       "      <td>2015</td>\n",
       "      <td>575000.0</td>\n",
       "      <td>-0.312201</td>\n",
       "    </tr>\n",
       "    <tr>\n",
       "      <th>2350</th>\n",
       "      <td>Viet Nam</td>\n",
       "      <td>2015</td>\n",
       "      <td>7350000.0</td>\n",
       "      <td>-0.008097</td>\n",
       "    </tr>\n",
       "    <tr>\n",
       "      <th>2351</th>\n",
       "      <td>Yemen</td>\n",
       "      <td>2015</td>\n",
       "      <td>400000.0</td>\n",
       "      <td>-0.610136</td>\n",
       "    </tr>\n",
       "    <tr>\n",
       "      <th>2352</th>\n",
       "      <td>Zambia</td>\n",
       "      <td>2015</td>\n",
       "      <td>660000.0</td>\n",
       "      <td>0.028037</td>\n",
       "    </tr>\n",
       "    <tr>\n",
       "      <th>2353</th>\n",
       "      <td>Zimbabwe</td>\n",
       "      <td>2015</td>\n",
       "      <td>175000.0</td>\n",
       "      <td>0.017442</td>\n",
       "    </tr>\n",
       "  </tbody>\n",
       "</table>\n",
       "<p>2354 rows × 4 columns</p>\n",
       "</div>"
      ],
      "text/plain": [
       "          Country  period     Travel  Travel_growth_rate\n",
       "0     Afghanistan    2005        NaN                 NaN\n",
       "1         Albania    2005   854000.0                 NaN\n",
       "2         Algeria    2005   184000.0                 NaN\n",
       "3         Andorra    2005        NaN                 NaN\n",
       "4          Angola    2005    88000.0                 NaN\n",
       "...           ...     ...        ...                 ...\n",
       "2349    Venezuela    2015   575000.0           -0.312201\n",
       "2350     Viet Nam    2015  7350000.0           -0.008097\n",
       "2351        Yemen    2015   400000.0           -0.610136\n",
       "2352       Zambia    2015   660000.0            0.028037\n",
       "2353     Zimbabwe    2015   175000.0            0.017442\n",
       "\n",
       "[2354 rows x 4 columns]"
      ]
     },
     "execution_count": 56,
     "metadata": {},
     "output_type": "execute_result"
    }
   ],
   "source": [
    "# calculate the growth rate for each country for each year for the travel export\n",
    "input['Travel_growth_rate'] = input.groupby('Country')['Travel'].pct_change()\n",
    "\n",
    "# display the growth rate\n",
    "input[['Country', 'period', 'Travel', 'Travel_growth_rate']]"
   ]
  },
  {
   "cell_type": "code",
   "execution_count": 57,
   "metadata": {},
   "outputs": [
    {
     "data": {
      "application/vnd.plotly.v1+json": {
       "config": {
        "plotlyServerURL": "https://plot.ly"
       },
       "data": [
        {
         "hovertemplate": "Country=Anguilla<br>Year=%{x}<br>Travel Growth Rate (%)=%{y}<extra></extra>",
         "legendgroup": "Anguilla",
         "line": {
          "color": "#636efa",
          "dash": "solid"
         },
         "marker": {
          "symbol": "circle"
         },
         "mode": "lines+markers",
         "name": "Anguilla",
         "orientation": "v",
         "showlegend": true,
         "type": "scatter",
         "x": [
          2005,
          2006,
          2007,
          2008,
          2009,
          2010,
          2011,
          2012,
          2013,
          2014,
          2015
         ],
         "xaxis": "x",
         "y": [
          null,
          0.2441860465116279,
          0.07476635514018692,
          -0.05217391304347829,
          -0.13761467889908252,
          0.05319148936170204,
          0.13131313131313127,
          0.008928571428571397,
          0.07964601769911495,
          0.11475409836065564,
          -0.014705882352941124
         ],
         "yaxis": "y"
        },
        {
         "hovertemplate": "Country=Aruba<br>Year=%{x}<br>Travel Growth Rate (%)=%{y}<extra></extra>",
         "legendgroup": "Aruba",
         "line": {
          "color": "#EF553B",
          "dash": "solid"
         },
         "marker": {
          "symbol": "circle"
         },
         "mode": "lines+markers",
         "name": "Aruba",
         "orientation": "v",
         "showlegend": true,
         "type": "scatter",
         "x": [
          2005,
          2006,
          2007,
          2008,
          2009,
          2010,
          2011,
          2012,
          2013,
          2014,
          2015
         ],
         "xaxis": "x",
         "y": [
          null,
          -0.03008204193254327,
          0.14003759398496252,
          0.11376751854905187,
          -0.09548482605477426,
          0.023731587561374834,
          0.07993605115907276,
          0.03774981495188756,
          0.06633380884450779,
          0.0735785953177257,
          0.028037383177569986
         ],
         "yaxis": "y"
        },
        {
         "hovertemplate": "Country=Bahamas<br>Year=%{x}<br>Travel Growth Rate (%)=%{y}<extra></extra>",
         "legendgroup": "Bahamas",
         "line": {
          "color": "#00cc96",
          "dash": "solid"
         },
         "marker": {
          "symbol": "circle"
         },
         "mode": "lines+markers",
         "name": "Bahamas",
         "orientation": "v",
         "showlegend": true,
         "type": "scatter",
         "x": [
          2005,
          2006,
          2007,
          2008,
          2009,
          2010,
          2011,
          2012,
          2013,
          2014,
          2015
         ],
         "xaxis": "x",
         "y": [
          null,
          -0.007242877836793782,
          0.06371595330739299,
          -0.019661636945587535,
          -0.06063432835820892,
          0.0660377358490567,
          -0.0023288309268747476,
          0.07889822595704943,
          -0.011250540891388994,
          0.013566739606126976,
          0.09542314335060453
         ],
         "yaxis": "y"
        },
        {
         "hovertemplate": "Country=Macao<br>Year=%{x}<br>Travel Growth Rate (%)=%{y}<extra></extra>",
         "legendgroup": "Macao",
         "line": {
          "color": "#ab63fa",
          "dash": "solid"
         },
         "marker": {
          "symbol": "circle"
         },
         "mode": "lines+markers",
         "name": "Macao",
         "orientation": "v",
         "showlegend": true,
         "type": "scatter",
         "x": [
          2005,
          2006,
          2007,
          2008,
          2009,
          2010,
          2011,
          2012,
          2013,
          2014,
          2015
         ],
         "xaxis": "x",
         "y": [
          null,
          0.1808203350664357,
          0.3295009784735812,
          0.232750689972401,
          0.11037313432835827,
          0.49714362524363187,
          0.3734512479798886,
          0.17944108514463153,
          0.197810724677844,
          -0.008699072253198548,
          -0.27413821271034144
         ],
         "yaxis": "y"
        },
        {
         "hovertemplate": "Country=Maldives<br>Year=%{x}<br>Travel Growth Rate (%)=%{y}<extra></extra>",
         "legendgroup": "Maldives",
         "line": {
          "color": "#FFA15A",
          "dash": "solid"
         },
         "marker": {
          "symbol": "circle"
         },
         "mode": "lines+markers",
         "name": "Maldives",
         "orientation": "v",
         "showlegend": true,
         "type": "scatter",
         "x": [
          2005,
          2006,
          2007,
          2008,
          2009,
          2010,
          2011,
          2012,
          2013,
          2014,
          2015
         ],
         "xaxis": "x",
         "y": [
          null,
          0.7839721254355401,
          1.958984375,
          0.029042904290428995,
          -0.05516356638871067,
          0.1629327902240325,
          0.13251605370694697,
          0.009278350515463885,
          0.19254341164453526,
          0.15460385438972168,
          -0.04710682492581597
         ],
         "yaxis": "y"
        }
       ],
       "layout": {
        "height": 500,
        "legend": {
         "title": {
          "text": "Country"
         },
         "tracegroupgap": 0
        },
        "template": {
         "data": {
          "bar": [
           {
            "error_x": {
             "color": "#2a3f5f"
            },
            "error_y": {
             "color": "#2a3f5f"
            },
            "marker": {
             "line": {
              "color": "white",
              "width": 0.5
             },
             "pattern": {
              "fillmode": "overlay",
              "size": 10,
              "solidity": 0.2
             }
            },
            "type": "bar"
           }
          ],
          "barpolar": [
           {
            "marker": {
             "line": {
              "color": "white",
              "width": 0.5
             },
             "pattern": {
              "fillmode": "overlay",
              "size": 10,
              "solidity": 0.2
             }
            },
            "type": "barpolar"
           }
          ],
          "carpet": [
           {
            "aaxis": {
             "endlinecolor": "#2a3f5f",
             "gridcolor": "#C8D4E3",
             "linecolor": "#C8D4E3",
             "minorgridcolor": "#C8D4E3",
             "startlinecolor": "#2a3f5f"
            },
            "baxis": {
             "endlinecolor": "#2a3f5f",
             "gridcolor": "#C8D4E3",
             "linecolor": "#C8D4E3",
             "minorgridcolor": "#C8D4E3",
             "startlinecolor": "#2a3f5f"
            },
            "type": "carpet"
           }
          ],
          "choropleth": [
           {
            "colorbar": {
             "outlinewidth": 0,
             "ticks": ""
            },
            "type": "choropleth"
           }
          ],
          "contour": [
           {
            "colorbar": {
             "outlinewidth": 0,
             "ticks": ""
            },
            "colorscale": [
             [
              0,
              "#0d0887"
             ],
             [
              0.1111111111111111,
              "#46039f"
             ],
             [
              0.2222222222222222,
              "#7201a8"
             ],
             [
              0.3333333333333333,
              "#9c179e"
             ],
             [
              0.4444444444444444,
              "#bd3786"
             ],
             [
              0.5555555555555556,
              "#d8576b"
             ],
             [
              0.6666666666666666,
              "#ed7953"
             ],
             [
              0.7777777777777778,
              "#fb9f3a"
             ],
             [
              0.8888888888888888,
              "#fdca26"
             ],
             [
              1,
              "#f0f921"
             ]
            ],
            "type": "contour"
           }
          ],
          "contourcarpet": [
           {
            "colorbar": {
             "outlinewidth": 0,
             "ticks": ""
            },
            "type": "contourcarpet"
           }
          ],
          "heatmap": [
           {
            "colorbar": {
             "outlinewidth": 0,
             "ticks": ""
            },
            "colorscale": [
             [
              0,
              "#0d0887"
             ],
             [
              0.1111111111111111,
              "#46039f"
             ],
             [
              0.2222222222222222,
              "#7201a8"
             ],
             [
              0.3333333333333333,
              "#9c179e"
             ],
             [
              0.4444444444444444,
              "#bd3786"
             ],
             [
              0.5555555555555556,
              "#d8576b"
             ],
             [
              0.6666666666666666,
              "#ed7953"
             ],
             [
              0.7777777777777778,
              "#fb9f3a"
             ],
             [
              0.8888888888888888,
              "#fdca26"
             ],
             [
              1,
              "#f0f921"
             ]
            ],
            "type": "heatmap"
           }
          ],
          "heatmapgl": [
           {
            "colorbar": {
             "outlinewidth": 0,
             "ticks": ""
            },
            "colorscale": [
             [
              0,
              "#0d0887"
             ],
             [
              0.1111111111111111,
              "#46039f"
             ],
             [
              0.2222222222222222,
              "#7201a8"
             ],
             [
              0.3333333333333333,
              "#9c179e"
             ],
             [
              0.4444444444444444,
              "#bd3786"
             ],
             [
              0.5555555555555556,
              "#d8576b"
             ],
             [
              0.6666666666666666,
              "#ed7953"
             ],
             [
              0.7777777777777778,
              "#fb9f3a"
             ],
             [
              0.8888888888888888,
              "#fdca26"
             ],
             [
              1,
              "#f0f921"
             ]
            ],
            "type": "heatmapgl"
           }
          ],
          "histogram": [
           {
            "marker": {
             "pattern": {
              "fillmode": "overlay",
              "size": 10,
              "solidity": 0.2
             }
            },
            "type": "histogram"
           }
          ],
          "histogram2d": [
           {
            "colorbar": {
             "outlinewidth": 0,
             "ticks": ""
            },
            "colorscale": [
             [
              0,
              "#0d0887"
             ],
             [
              0.1111111111111111,
              "#46039f"
             ],
             [
              0.2222222222222222,
              "#7201a8"
             ],
             [
              0.3333333333333333,
              "#9c179e"
             ],
             [
              0.4444444444444444,
              "#bd3786"
             ],
             [
              0.5555555555555556,
              "#d8576b"
             ],
             [
              0.6666666666666666,
              "#ed7953"
             ],
             [
              0.7777777777777778,
              "#fb9f3a"
             ],
             [
              0.8888888888888888,
              "#fdca26"
             ],
             [
              1,
              "#f0f921"
             ]
            ],
            "type": "histogram2d"
           }
          ],
          "histogram2dcontour": [
           {
            "colorbar": {
             "outlinewidth": 0,
             "ticks": ""
            },
            "colorscale": [
             [
              0,
              "#0d0887"
             ],
             [
              0.1111111111111111,
              "#46039f"
             ],
             [
              0.2222222222222222,
              "#7201a8"
             ],
             [
              0.3333333333333333,
              "#9c179e"
             ],
             [
              0.4444444444444444,
              "#bd3786"
             ],
             [
              0.5555555555555556,
              "#d8576b"
             ],
             [
              0.6666666666666666,
              "#ed7953"
             ],
             [
              0.7777777777777778,
              "#fb9f3a"
             ],
             [
              0.8888888888888888,
              "#fdca26"
             ],
             [
              1,
              "#f0f921"
             ]
            ],
            "type": "histogram2dcontour"
           }
          ],
          "mesh3d": [
           {
            "colorbar": {
             "outlinewidth": 0,
             "ticks": ""
            },
            "type": "mesh3d"
           }
          ],
          "parcoords": [
           {
            "line": {
             "colorbar": {
              "outlinewidth": 0,
              "ticks": ""
             }
            },
            "type": "parcoords"
           }
          ],
          "pie": [
           {
            "automargin": true,
            "type": "pie"
           }
          ],
          "scatter": [
           {
            "fillpattern": {
             "fillmode": "overlay",
             "size": 10,
             "solidity": 0.2
            },
            "type": "scatter"
           }
          ],
          "scatter3d": [
           {
            "line": {
             "colorbar": {
              "outlinewidth": 0,
              "ticks": ""
             }
            },
            "marker": {
             "colorbar": {
              "outlinewidth": 0,
              "ticks": ""
             }
            },
            "type": "scatter3d"
           }
          ],
          "scattercarpet": [
           {
            "marker": {
             "colorbar": {
              "outlinewidth": 0,
              "ticks": ""
             }
            },
            "type": "scattercarpet"
           }
          ],
          "scattergeo": [
           {
            "marker": {
             "colorbar": {
              "outlinewidth": 0,
              "ticks": ""
             }
            },
            "type": "scattergeo"
           }
          ],
          "scattergl": [
           {
            "marker": {
             "colorbar": {
              "outlinewidth": 0,
              "ticks": ""
             }
            },
            "type": "scattergl"
           }
          ],
          "scattermapbox": [
           {
            "marker": {
             "colorbar": {
              "outlinewidth": 0,
              "ticks": ""
             }
            },
            "type": "scattermapbox"
           }
          ],
          "scatterpolar": [
           {
            "marker": {
             "colorbar": {
              "outlinewidth": 0,
              "ticks": ""
             }
            },
            "type": "scatterpolar"
           }
          ],
          "scatterpolargl": [
           {
            "marker": {
             "colorbar": {
              "outlinewidth": 0,
              "ticks": ""
             }
            },
            "type": "scatterpolargl"
           }
          ],
          "scatterternary": [
           {
            "marker": {
             "colorbar": {
              "outlinewidth": 0,
              "ticks": ""
             }
            },
            "type": "scatterternary"
           }
          ],
          "surface": [
           {
            "colorbar": {
             "outlinewidth": 0,
             "ticks": ""
            },
            "colorscale": [
             [
              0,
              "#0d0887"
             ],
             [
              0.1111111111111111,
              "#46039f"
             ],
             [
              0.2222222222222222,
              "#7201a8"
             ],
             [
              0.3333333333333333,
              "#9c179e"
             ],
             [
              0.4444444444444444,
              "#bd3786"
             ],
             [
              0.5555555555555556,
              "#d8576b"
             ],
             [
              0.6666666666666666,
              "#ed7953"
             ],
             [
              0.7777777777777778,
              "#fb9f3a"
             ],
             [
              0.8888888888888888,
              "#fdca26"
             ],
             [
              1,
              "#f0f921"
             ]
            ],
            "type": "surface"
           }
          ],
          "table": [
           {
            "cells": {
             "fill": {
              "color": "#EBF0F8"
             },
             "line": {
              "color": "white"
             }
            },
            "header": {
             "fill": {
              "color": "#C8D4E3"
             },
             "line": {
              "color": "white"
             }
            },
            "type": "table"
           }
          ]
         },
         "layout": {
          "annotationdefaults": {
           "arrowcolor": "#2a3f5f",
           "arrowhead": 0,
           "arrowwidth": 1
          },
          "autotypenumbers": "strict",
          "coloraxis": {
           "colorbar": {
            "outlinewidth": 0,
            "ticks": ""
           }
          },
          "colorscale": {
           "diverging": [
            [
             0,
             "#8e0152"
            ],
            [
             0.1,
             "#c51b7d"
            ],
            [
             0.2,
             "#de77ae"
            ],
            [
             0.3,
             "#f1b6da"
            ],
            [
             0.4,
             "#fde0ef"
            ],
            [
             0.5,
             "#f7f7f7"
            ],
            [
             0.6,
             "#e6f5d0"
            ],
            [
             0.7,
             "#b8e186"
            ],
            [
             0.8,
             "#7fbc41"
            ],
            [
             0.9,
             "#4d9221"
            ],
            [
             1,
             "#276419"
            ]
           ],
           "sequential": [
            [
             0,
             "#0d0887"
            ],
            [
             0.1111111111111111,
             "#46039f"
            ],
            [
             0.2222222222222222,
             "#7201a8"
            ],
            [
             0.3333333333333333,
             "#9c179e"
            ],
            [
             0.4444444444444444,
             "#bd3786"
            ],
            [
             0.5555555555555556,
             "#d8576b"
            ],
            [
             0.6666666666666666,
             "#ed7953"
            ],
            [
             0.7777777777777778,
             "#fb9f3a"
            ],
            [
             0.8888888888888888,
             "#fdca26"
            ],
            [
             1,
             "#f0f921"
            ]
           ],
           "sequentialminus": [
            [
             0,
             "#0d0887"
            ],
            [
             0.1111111111111111,
             "#46039f"
            ],
            [
             0.2222222222222222,
             "#7201a8"
            ],
            [
             0.3333333333333333,
             "#9c179e"
            ],
            [
             0.4444444444444444,
             "#bd3786"
            ],
            [
             0.5555555555555556,
             "#d8576b"
            ],
            [
             0.6666666666666666,
             "#ed7953"
            ],
            [
             0.7777777777777778,
             "#fb9f3a"
            ],
            [
             0.8888888888888888,
             "#fdca26"
            ],
            [
             1,
             "#f0f921"
            ]
           ]
          },
          "colorway": [
           "#636efa",
           "#EF553B",
           "#00cc96",
           "#ab63fa",
           "#FFA15A",
           "#19d3f3",
           "#FF6692",
           "#B6E880",
           "#FF97FF",
           "#FECB52"
          ],
          "font": {
           "color": "#2a3f5f"
          },
          "geo": {
           "bgcolor": "white",
           "lakecolor": "white",
           "landcolor": "white",
           "showlakes": true,
           "showland": true,
           "subunitcolor": "#C8D4E3"
          },
          "hoverlabel": {
           "align": "left"
          },
          "hovermode": "closest",
          "mapbox": {
           "style": "light"
          },
          "paper_bgcolor": "white",
          "plot_bgcolor": "white",
          "polar": {
           "angularaxis": {
            "gridcolor": "#EBF0F8",
            "linecolor": "#EBF0F8",
            "ticks": ""
           },
           "bgcolor": "white",
           "radialaxis": {
            "gridcolor": "#EBF0F8",
            "linecolor": "#EBF0F8",
            "ticks": ""
           }
          },
          "scene": {
           "xaxis": {
            "backgroundcolor": "white",
            "gridcolor": "#DFE8F3",
            "gridwidth": 2,
            "linecolor": "#EBF0F8",
            "showbackground": true,
            "ticks": "",
            "zerolinecolor": "#EBF0F8"
           },
           "yaxis": {
            "backgroundcolor": "white",
            "gridcolor": "#DFE8F3",
            "gridwidth": 2,
            "linecolor": "#EBF0F8",
            "showbackground": true,
            "ticks": "",
            "zerolinecolor": "#EBF0F8"
           },
           "zaxis": {
            "backgroundcolor": "white",
            "gridcolor": "#DFE8F3",
            "gridwidth": 2,
            "linecolor": "#EBF0F8",
            "showbackground": true,
            "ticks": "",
            "zerolinecolor": "#EBF0F8"
           }
          },
          "shapedefaults": {
           "line": {
            "color": "#2a3f5f"
           }
          },
          "ternary": {
           "aaxis": {
            "gridcolor": "#DFE8F3",
            "linecolor": "#A2B1C6",
            "ticks": ""
           },
           "baxis": {
            "gridcolor": "#DFE8F3",
            "linecolor": "#A2B1C6",
            "ticks": ""
           },
           "bgcolor": "white",
           "caxis": {
            "gridcolor": "#DFE8F3",
            "linecolor": "#A2B1C6",
            "ticks": ""
           }
          },
          "title": {
           "x": 0.05
          },
          "xaxis": {
           "automargin": true,
           "gridcolor": "#EBF0F8",
           "linecolor": "#EBF0F8",
           "ticks": "",
           "title": {
            "standoff": 15
           },
           "zerolinecolor": "#EBF0F8",
           "zerolinewidth": 2
          },
          "yaxis": {
           "automargin": true,
           "gridcolor": "#EBF0F8",
           "linecolor": "#EBF0F8",
           "ticks": "",
           "title": {
            "standoff": 15
           },
           "zerolinecolor": "#EBF0F8",
           "zerolinewidth": 2
          }
         }
        },
        "title": {
         "text": "Travel Growth Rate for Top 5 Countries"
        },
        "width": 700,
        "xaxis": {
         "anchor": "y",
         "domain": [
          0,
          1
         ],
         "title": {
          "text": "Year"
         }
        },
        "yaxis": {
         "anchor": "x",
         "domain": [
          0,
          1
         ],
         "title": {
          "text": "Travel Growth Rate (%)"
         }
        }
       }
      }
     },
     "metadata": {},
     "output_type": "display_data"
    }
   ],
   "source": [
    "import plotly.express as px\n",
    "\n",
    "# we know this from the output file EDA, these countries are competitors in the travel export market\n",
    "best_travel_countries = ['Macao', 'Maldives', 'Anguilla', 'Aruba', 'Bahamas']\n",
    "\n",
    "# filter the data for these countries\n",
    "travel_data = input[input['Country'].isin(best_travel_countries)]\n",
    "\n",
    "# create the line plot using plotly\n",
    "fig = px.line(\n",
    "    travel_data,\n",
    "    x='period',\n",
    "    y='Travel_growth_rate',\n",
    "    color='Country',\n",
    "    markers=True,\n",
    "    title='Travel Growth Rate for Top 5 Countries',\n",
    "    labels={'period': 'Year', 'Travel_growth_rate': 'Travel Growth Rate (%)'},\n",
    "    width=700,\n",
    "    height=500\n",
    ")\n",
    "\n",
    "fig.update_layout(template='plotly_white', legend_title='Country')\n",
    "fig.show()"
   ]
  },
  {
   "cell_type": "markdown",
   "metadata": {},
   "source": [
    "### Output: Travel Share vs RCA"
   ]
  },
  {
   "cell_type": "markdown",
   "metadata": {},
   "source": [
    "Lets find the share of each export category in a country's total exports over time, we can then check whether that country's export is concentrated on a specific category(s). We can then check if the dominating export value aligns with a high RCA value.\n",
    "\n",
    "Lets use the 'Travel' category as an example again"
   ]
  },
  {
   "cell_type": "code",
   "execution_count": 58,
   "metadata": {},
   "outputs": [
    {
     "name": "stderr",
     "output_type": "stream",
     "text": [
      "/var/folders/vx/5tk112p12g31tcg7498x6wp00000gn/T/ipykernel_19407/639204996.py:9: RuntimeWarning:\n",
      "\n",
      "invalid value encountered in scalar divide\n",
      "\n",
      "/var/folders/vx/5tk112p12g31tcg7498x6wp00000gn/T/ipykernel_19407/639204996.py:9: RuntimeWarning:\n",
      "\n",
      "invalid value encountered in scalar divide\n",
      "\n",
      "/var/folders/vx/5tk112p12g31tcg7498x6wp00000gn/T/ipykernel_19407/639204996.py:9: RuntimeWarning:\n",
      "\n",
      "invalid value encountered in scalar divide\n",
      "\n"
     ]
    },
    {
     "data": {
      "text/html": [
       "<div>\n",
       "<style scoped>\n",
       "    .dataframe tbody tr th:only-of-type {\n",
       "        vertical-align: middle;\n",
       "    }\n",
       "\n",
       "    .dataframe tbody tr th {\n",
       "        vertical-align: top;\n",
       "    }\n",
       "\n",
       "    .dataframe thead th {\n",
       "        text-align: right;\n",
       "    }\n",
       "</style>\n",
       "<table border=\"1\" class=\"dataframe\">\n",
       "  <thead>\n",
       "    <tr style=\"text-align: right;\">\n",
       "      <th></th>\n",
       "      <th>Country</th>\n",
       "      <th>Travel_Share</th>\n",
       "    </tr>\n",
       "  </thead>\n",
       "  <tbody>\n",
       "    <tr>\n",
       "      <th>113</th>\n",
       "      <td>Macao</td>\n",
       "      <td>0.894569</td>\n",
       "    </tr>\n",
       "    <tr>\n",
       "      <th>118</th>\n",
       "      <td>Maldives</td>\n",
       "      <td>0.851583</td>\n",
       "    </tr>\n",
       "    <tr>\n",
       "      <th>5</th>\n",
       "      <td>Anguilla</td>\n",
       "      <td>0.757362</td>\n",
       "    </tr>\n",
       "    <tr>\n",
       "      <th>9</th>\n",
       "      <td>Aruba</td>\n",
       "      <td>0.748911</td>\n",
       "    </tr>\n",
       "    <tr>\n",
       "      <th>81</th>\n",
       "      <td>Grenada</td>\n",
       "      <td>0.694034</td>\n",
       "    </tr>\n",
       "    <tr>\n",
       "      <th>13</th>\n",
       "      <td>Bahamas</td>\n",
       "      <td>0.686660</td>\n",
       "    </tr>\n",
       "    <tr>\n",
       "      <th>161</th>\n",
       "      <td>Saint Lucia</td>\n",
       "      <td>0.678776</td>\n",
       "    </tr>\n",
       "    <tr>\n",
       "      <th>86</th>\n",
       "      <td>Haiti</td>\n",
       "      <td>0.659797</td>\n",
       "    </tr>\n",
       "    <tr>\n",
       "      <th>165</th>\n",
       "      <td>Sao Tome and Principe</td>\n",
       "      <td>0.617614</td>\n",
       "    </tr>\n",
       "    <tr>\n",
       "      <th>6</th>\n",
       "      <td>Antigua and Barbuda</td>\n",
       "      <td>0.596715</td>\n",
       "    </tr>\n",
       "  </tbody>\n",
       "</table>\n",
       "</div>"
      ],
      "text/plain": [
       "                   Country  Travel_Share\n",
       "113                  Macao      0.894569\n",
       "118               Maldives      0.851583\n",
       "5                 Anguilla      0.757362\n",
       "9                    Aruba      0.748911\n",
       "81                 Grenada      0.694034\n",
       "13                 Bahamas      0.686660\n",
       "161            Saint Lucia      0.678776\n",
       "86                   Haiti      0.659797\n",
       "165  Sao Tome and Principe      0.617614\n",
       "6      Antigua and Barbuda      0.596715"
      ]
     },
     "execution_count": 58,
     "metadata": {},
     "output_type": "execute_result"
    }
   ],
   "source": [
    "travel_share_list = []\n",
    "\n",
    "# loop through each country group to calculate the travel share\n",
    "for country, category in input.groupby('Country'):\n",
    "\n",
    "    total_travel = category['Travel'].sum()\n",
    "    total_exports = category.drop(['Country', 'period', 'TOTAL'], axis=1).sum().sum()\n",
    "    \n",
    "    travel_share = total_travel / total_exports\n",
    "    travel_share_list.append({'Country': country, 'Travel_Share': travel_share})\n",
    "\n",
    "# create a dataframe from the list\n",
    "travel_share_df = pd.DataFrame(travel_share_list)\n",
    "\n",
    "# these are the top 10 countries with the highest travel share, from the input data\n",
    "travel_share_df.sort_values(by='Travel_Share', ascending=False).head(10)"
   ]
  },
  {
   "cell_type": "code",
   "execution_count": 59,
   "metadata": {},
   "outputs": [
    {
     "data": {
      "text/plain": [
       "Country\n",
       "Macao                               192.823946\n",
       "Maldives                            186.013664\n",
       "Anguilla                            172.014787\n",
       "Aruba                               168.360590\n",
       "Bahamas                             154.029234\n",
       "Saint Lucia                         149.878585\n",
       "Grenada                             145.227579\n",
       "Antigua and Barbuda                 131.410264\n",
       "Barbados                            126.054241\n",
       "Sao Tome and Principe               123.925302\n",
       "Saint Vincent and the Grenadines    123.893518\n",
       "Saint Kitts and Nevis               118.307202\n",
       "Dominica                            118.079711\n",
       "Samoa                               109.823916\n",
       "Comoros                             108.929295\n",
       "Gambia                              105.607520\n",
       "Montserrat                          105.593459\n",
       "Netherlands Antilles                102.911521\n",
       "Jamaica                             102.663563\n",
       "Vanuatu                             101.780959\n",
       "Cabo Verde                          100.834896\n",
       "Tonga                               100.616506\n",
       "Gibraltar                            96.069500\n",
       "Montenegro                           95.563941\n",
       "Albania                              92.791351\n",
       "Belize                               90.912560\n",
       "Micronesia                           87.424928\n",
       "French Polynesia                     85.504610\n",
       "Cuba                                 84.277453\n",
       "Sierra Leone                         83.262348\n",
       "Lebanon                              77.960233\n",
       "Croatia                              77.911825\n",
       "Dominican Republic                   75.531752\n",
       "Fiji                                 71.675578\n",
       "Seychelles                           64.784535\n",
       "Nepal                                62.922346\n",
       "Armenia                              62.895387\n",
       "Mauritius                            60.393970\n",
       "Jordan                               58.873670\n",
       "Rwanda                               54.412191\n",
       "Tanzania                             53.540553\n",
       "Uganda                               53.427980\n",
       "Cyprus                               52.256963\n",
       "Georgia                              51.358256\n",
       "Cambodia                             50.571991\n",
       "Greece                               50.418008\n",
       "Tuvalu                               48.834603\n",
       "Benin                                48.121202\n",
       "Morocco                              47.819041\n",
       "Egypt                                46.277411\n",
       "Timor-Leste                          46.097330\n",
       "Syria                                41.769909\n",
       "Kiribati                             41.516286\n",
       "Lesotho                              40.168959\n",
       "Haiti                                39.064030\n",
       "Costa Rica                           37.285448\n",
       "New Zealand                          36.880238\n",
       "Madagascar                           36.203656\n",
       "Uruguay                              34.984450\n",
       "Spain                                34.126832\n",
       "Name: Travel, dtype: float64"
      ]
     },
     "execution_count": 59,
     "metadata": {},
     "output_type": "execute_result"
    }
   ],
   "source": [
    "# these are the top 10 countries with the highest RCA for Travel, from the output data\n",
    "\n",
    "output.groupby('Country')['Travel'].sum().sort_values(ascending=False).head(60)"
   ]
  },
  {
   "cell_type": "markdown",
   "metadata": {},
   "source": [
    "<mark> We know from our previous analysis, just the export value for a category does not necessarily mean a high RCA value </mark>\n",
    "\n",
    "<mark> This is obvious as it does not take into account the other export categories for that same country </mark>\n",
    "\n",
    "<mark> We can see that for the most part, the export value ***share*** for travel aligns with the RCA value </mark>\n",
    "\n",
    "<mark> Grenada, despite having a high share for travel export (5th in the world), its RCA value is not as high compared to its competitors (7th in the world) </mark>"
   ]
  }
 ],
 "metadata": {
  "kernelspec": {
   "display_name": "Python 3",
   "language": "python",
   "name": "python3"
  },
  "language_info": {
   "codemirror_mode": {
    "name": "ipython",
    "version": 3
   },
   "file_extension": ".py",
   "mimetype": "text/x-python",
   "name": "python",
   "nbconvert_exporter": "python",
   "pygments_lexer": "ipython3",
   "version": "3.12.5"
  }
 },
 "nbformat": 4,
 "nbformat_minor": 2
}
